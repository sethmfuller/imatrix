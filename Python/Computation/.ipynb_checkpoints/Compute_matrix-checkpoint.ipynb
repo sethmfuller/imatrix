{
 "cells": [
  {
   "cell_type": "code",
   "execution_count": null,
   "metadata": {},
   "outputs": [],
   "source": [
    "#Author: Austin Bearden\n",
    "#Date Created: 4/16/2018\n",
    "#Data Last Modified: 4/16/2018\n",
    "#Project: imatrix"
   ]
  },
  {
   "cell_type": "code",
   "execution_count": 6,
   "metadata": {},
   "outputs": [
    {
     "name": "stdout",
     "output_type": "stream",
     "text": [
      "Inverse:  [[ 0.00000000e+00  0.00000000e+00  0.00000000e+00  5.00000000e-01]\n",
      " [ 0.00000000e+00  0.00000000e+00  0.00000000e+00  0.00000000e+00]\n",
      " [-3.60287970e+15  9.00719925e+15 -7.20575940e+15  1.80143985e+15]\n",
      " [ 2.88230376e+15 -7.20575940e+15  5.76460752e+15 -1.44115188e+15]]\n",
      "Determinant:  2.775557561562889e-15\n",
      "Eignevalues:  (array([ 1.20000000e+01, -2.00000000e+00,  1.00000000e+00, -9.18732368e-18]), matrix([[ 4.49403532e-01,  5.54700196e-01, -6.41617606e-01,\n",
      "          1.09281222e-16],\n",
      "        [ 4.49403532e-01,  5.54700196e-01,  2.78964176e-01,\n",
      "          5.94216644e-16],\n",
      "        [ 4.86853826e-01,  2.77350098e-01,  5.57928353e-01,\n",
      "          7.80868809e-01],\n",
      "        [ 5.99204709e-01, -5.54700196e-01, -4.46342682e-01,\n",
      "         -6.24695048e-01]]))\n"
     ]
    }
   ],
   "source": [
    "#Import block\n",
    "import math\n",
    "import numpy as np\n",
    "import panda as pd\n",
    "from numpy.linalg import inv\n",
    "from numpy.linalg import det\n",
    "from numpy.linalg import eig\n",
    "\n",
    "a = np.array([[1, 0, 4, 5], [0, 1, 4, 5], [0, 2, 4, 5], [2, 3, 4, 5]])\n",
    "ainv = inv(np.matrix(a))\n",
    "\n",
    "adet = det(np.matrix(a))\n",
    "\n",
    "aeig = eig(np.matrix(a))\n",
    "\n",
    "print(\"Inverse: \", ainv)\n",
    "print(\"Determinant: \", adet)\n",
    "print(\"Eignevalues: \", aeig)"
   ]
  },
  {
   "cell_type": "code",
   "execution_count": 7,
   "metadata": {},
   "outputs": [],
   "source": [
    "#We need to output to a JSON file\n",
    "#we need to allocate as meany row labels as there are rows\n",
    "#So, the creation of the JSON file needs to be dynamic\n",
    "# based on what matrix is input into application"
   ]
  },
  {
   "cell_type": "code",
   "execution_count": 8,
   "metadata": {},
   "outputs": [],
   "source": [
    "#loop that goes over number of rows in array\n",
    "# then puts key based on index value in char format"
   ]
  },
  {
   "cell_type": "code",
   "execution_count": 9,
   "metadata": {},
   "outputs": [
    {
     "name": "stdout",
     "output_type": "stream",
     "text": [
      "4\n"
     ]
    }
   ],
   "source": [
    "for i in range(len(a)):\n",
    "    x"
   ]
  },
  {
   "cell_type": "code",
   "execution_count": null,
   "metadata": {},
   "outputs": [],
   "source": []
  }
 ],
 "metadata": {
  "kernelspec": {
   "display_name": "Python 3",
   "language": "python",
   "name": "python3"
  },
  "language_info": {
   "codemirror_mode": {
    "name": "ipython",
    "version": 3
   },
   "file_extension": ".py",
   "mimetype": "text/x-python",
   "name": "python",
   "nbconvert_exporter": "python",
   "pygments_lexer": "ipython3",
   "version": "3.6.4"
  }
 },
 "nbformat": 4,
 "nbformat_minor": 2
}
