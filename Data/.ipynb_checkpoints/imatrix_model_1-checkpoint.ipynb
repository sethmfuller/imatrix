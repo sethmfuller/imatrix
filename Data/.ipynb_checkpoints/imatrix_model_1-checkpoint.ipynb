{
 "cells": [
  {
   "cell_type": "code",
   "execution_count": 1,
   "metadata": {},
   "outputs": [],
   "source": [
    "#Author: Austin Bearden\n",
    "#Date Created: 4/16/2018\n",
    "#Date Last Modified: 4/16/2018\n",
    "#Project: imatrix"
   ]
  },
  {
   "cell_type": "code",
   "execution_count": 2,
   "metadata": {},
   "outputs": [
    {
     "name": "stderr",
     "output_type": "stream",
     "text": [
      "/Applications/anaconda3/lib/python3.6/site-packages/h5py/__init__.py:36: FutureWarning: Conversion of the second argument of issubdtype from `float` to `np.floating` is deprecated. In future, it will be treated as `np.float64 == np.dtype(float).type`.\n",
      "  from ._conv import register_converters as _register_converters\n",
      "Using TensorFlow backend.\n"
     ]
    }
   ],
   "source": [
    "from keras.preprocessing.image import load_img\n",
    "from keras.preprocessing.image import img_to_array\n",
    "import matplotlib.pyplot as plt\n",
    "import keras\n",
    "import numpy as np\n",
    "\n",
    "%matplotlib inline\n",
    "\n",
    "import pandas as pd"
   ]
  },
  {
   "cell_type": "code",
   "execution_count": 3,
   "metadata": {},
   "outputs": [],
   "source": [
    "df = pd.read_csv('train.csv')\n",
    "y=df.IMAGE_VALUE\n",
    "filenames = df.IMAGE_NAME\n",
    "\n",
    "for i in range(len(filenames)):\n",
    "    filename = 'images/' + filenames[i]\n",
    "    image = load_img(filename, target_size=(30, 30))\n",
    "    numpy_image = img_to_array(image)\n",
    "    numpy_image = np.reshape(numpy_image, (1,30*30*3))\n",
    "    if i > 0:\n",
    "        image_array=np.append(image_array, numpy_image, axis = 0)\n",
    "    else:\n",
    "        image_array=np.copy(numpy_image)"
   ]
  },
  {
   "cell_type": "code",
   "execution_count": 4,
   "metadata": {},
   "outputs": [],
   "source": [
    "##Specificing the input shape\n",
    "\n",
    "from keras.models import Sequential\n",
    "from keras.layers import Dense, Activation\n",
    "\n",
    "model = Sequential()\n",
    "model.add(Dense(32, activation='relu', input_shape=(2700,)))\n",
    "model.add(Dense(10, activation='softmax'))"
   ]
  },
  {
   "cell_type": "code",
   "execution_count": 5,
   "metadata": {},
   "outputs": [],
   "source": [
    "#Configuring the learning process (Compilation)\n",
    "\n",
    "# For multi-class classification problem\n",
    "model.compile(optimizer='rmsprop',\n",
    "              loss='sparse_categorical_crossentropy',\n",
    "              metrics=['accuracy'])"
   ]
  },
  {
   "cell_type": "code",
   "execution_count": 13,
   "metadata": {},
   "outputs": [
    {
     "name": "stdout",
     "output_type": "stream",
     "text": [
      "Epoch 1/10\n",
      "101/101 [==============================] - 0s 120us/step - loss: 15.7989 - acc: 0.0198\n",
      "Epoch 2/10\n",
      "101/101 [==============================] - 0s 160us/step - loss: 15.7989 - acc: 0.0198\n",
      "Epoch 3/10\n",
      "101/101 [==============================] - 0s 134us/step - loss: 15.7989 - acc: 0.0198\n",
      "Epoch 4/10\n",
      "101/101 [==============================] - 0s 134us/step - loss: 15.7989 - acc: 0.0198\n",
      "Epoch 5/10\n",
      "101/101 [==============================] - 0s 155us/step - loss: 15.7989 - acc: 0.0198\n",
      "Epoch 6/10\n",
      "101/101 [==============================] - 0s 129us/step - loss: 15.7989 - acc: 0.0198\n",
      "Epoch 7/10\n",
      "101/101 [==============================] - 0s 132us/step - loss: 15.7989 - acc: 0.0198\n",
      "Epoch 8/10\n",
      "101/101 [==============================] - 0s 102us/step - loss: 15.7989 - acc: 0.0198\n",
      "Epoch 9/10\n",
      "101/101 [==============================] - 0s 132us/step - loss: 15.7989 - acc: 0.0198\n",
      "Epoch 10/10\n",
      "101/101 [==============================] - 0s 117us/step - loss: 15.7989 - acc: 0.0198\n"
     ]
    },
    {
     "data": {
      "text/plain": [
       "<keras.callbacks.History at 0x181a23d240>"
      ]
     },
     "execution_count": 13,
     "metadata": {},
     "output_type": "execute_result"
    }
   ],
   "source": [
    "#Train the model, iterating on the data in batches of 32 samples\n",
    "model.fit(image_array, y, epochs=10, batch_size=32)"
   ]
  },
  {
   "cell_type": "code",
   "execution_count": 24,
   "metadata": {},
   "outputs": [
    {
     "name": "stdout",
     "output_type": "stream",
     "text": [
      "101/101 [==============================] - 0s 91us/step\n",
      "15.798925040972115\n"
     ]
    }
   ],
   "source": [
    "#Score everything\n",
    "score = model.evaluate(image_array, y, batch_size=32)\n",
    "print(score) ## what is the input that this inputs? Its not a number"
   ]
  },
  {
   "cell_type": "code",
   "execution_count": null,
   "metadata": {},
   "outputs": [],
   "source": []
  }
 ],
 "metadata": {
  "kernelspec": {
   "display_name": "Python 3",
   "language": "python",
   "name": "python3"
  },
  "language_info": {
   "codemirror_mode": {
    "name": "ipython",
    "version": 3
   },
   "file_extension": ".py",
   "mimetype": "text/x-python",
   "name": "python",
   "nbconvert_exporter": "python",
   "pygments_lexer": "ipython3",
   "version": "3.6.4"
  }
 },
 "nbformat": 4,
 "nbformat_minor": 2
}
